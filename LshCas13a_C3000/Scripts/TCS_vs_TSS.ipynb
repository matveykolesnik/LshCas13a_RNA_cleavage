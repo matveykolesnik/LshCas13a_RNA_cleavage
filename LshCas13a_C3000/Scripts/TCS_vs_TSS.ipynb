{
 "cells": [
  {
   "cell_type": "code",
   "execution_count": 1,
   "metadata": {},
   "outputs": [],
   "source": [
    "import os"
   ]
  },
  {
   "cell_type": "code",
   "execution_count": 2,
   "metadata": {},
   "outputs": [],
   "source": [
    "os.chdir(\"/home/matvey/data/LshCas13a_RNA_cleavage/LshCas13a_C3000/\")"
   ]
  },
  {
   "cell_type": "code",
   "execution_count": 3,
   "metadata": {},
   "outputs": [],
   "source": [
    "TCS_table = \"Results/Tables/TCS_detection_tables/LRTest_table.tsv\"\n",
    "T_TSS_table = \"Results/Tables/TSS_detection_tables/T_cells_TSS_predictions.tsv\""
   ]
  },
  {
   "cell_type": "code",
   "execution_count": 4,
   "metadata": {},
   "outputs": [],
   "source": [
    "import pandas as pd"
   ]
  },
  {
   "cell_type": "code",
   "execution_count": 5,
   "metadata": {},
   "outputs": [],
   "source": [
    "TCS_DF = pd.read_csv(TCS_table, sep=\"\\t\")\n",
    "T_TSS_DF = pd.read_csv(T_TSS_table, sep=\"\\t\")"
   ]
  },
  {
   "cell_type": "code",
   "execution_count": 6,
   "metadata": {},
   "outputs": [],
   "source": [
    "TCS_DF.sort_values(by=\"PValue.adj\", ascending=True, inplace=True)\n",
    "T_TSS_DF.sort_values(by=\"PValue.adj\", ascending=True, inplace=True)"
   ]
  },
  {
   "cell_type": "code",
   "execution_count": 7,
   "metadata": {},
   "outputs": [
    {
     "data": {
      "text/html": [
       "<div>\n",
       "<style scoped>\n",
       "    .dataframe tbody tr th:only-of-type {\n",
       "        vertical-align: middle;\n",
       "    }\n",
       "\n",
       "    .dataframe tbody tr th {\n",
       "        vertical-align: top;\n",
       "    }\n",
       "\n",
       "    .dataframe thead th {\n",
       "        text-align: right;\n",
       "    }\n",
       "</style>\n",
       "<table border=\"1\" class=\"dataframe\">\n",
       "  <thead>\n",
       "    <tr style=\"text-align: right;\">\n",
       "      <th></th>\n",
       "      <th>SeqID</th>\n",
       "      <th>Pos</th>\n",
       "      <th>Strand</th>\n",
       "      <th>logFC</th>\n",
       "      <th>logCPM</th>\n",
       "      <th>LR</th>\n",
       "      <th>PValue</th>\n",
       "      <th>PValue.adj</th>\n",
       "    </tr>\n",
       "  </thead>\n",
       "  <tbody>\n",
       "    <tr>\n",
       "      <th>0</th>\n",
       "      <td>NC_000913.3</td>\n",
       "      <td>2716521</td>\n",
       "      <td>-</td>\n",
       "      <td>-8.437999</td>\n",
       "      <td>7.503037</td>\n",
       "      <td>239.021455</td>\n",
       "      <td>6.427968e-54</td>\n",
       "      <td>5.655069e-49</td>\n",
       "    </tr>\n",
       "    <tr>\n",
       "      <th>1</th>\n",
       "      <td>NC_000913.3</td>\n",
       "      <td>4540962</td>\n",
       "      <td>+</td>\n",
       "      <td>10.301635</td>\n",
       "      <td>5.383414</td>\n",
       "      <td>224.842339</td>\n",
       "      <td>7.946885e-51</td>\n",
       "      <td>3.495676e-46</td>\n",
       "    </tr>\n",
       "    <tr>\n",
       "      <th>2</th>\n",
       "      <td>NC_000913.3</td>\n",
       "      <td>2716291</td>\n",
       "      <td>-</td>\n",
       "      <td>-9.658506</td>\n",
       "      <td>5.561311</td>\n",
       "      <td>223.986410</td>\n",
       "      <td>1.221464e-50</td>\n",
       "      <td>3.581983e-46</td>\n",
       "    </tr>\n",
       "    <tr>\n",
       "      <th>3</th>\n",
       "      <td>NC_000913.3</td>\n",
       "      <td>2352451</td>\n",
       "      <td>-</td>\n",
       "      <td>-9.804095</td>\n",
       "      <td>5.699019</td>\n",
       "      <td>220.026273</td>\n",
       "      <td>8.925916e-50</td>\n",
       "      <td>1.963166e-45</td>\n",
       "    </tr>\n",
       "    <tr>\n",
       "      <th>4</th>\n",
       "      <td>NC_000913.3</td>\n",
       "      <td>3088620</td>\n",
       "      <td>+</td>\n",
       "      <td>-7.319793</td>\n",
       "      <td>8.295285</td>\n",
       "      <td>215.302668</td>\n",
       "      <td>9.572842e-49</td>\n",
       "      <td>1.684361e-44</td>\n",
       "    </tr>\n",
       "  </tbody>\n",
       "</table>\n",
       "</div>"
      ],
      "text/plain": [
       "         SeqID      Pos Strand      logFC    logCPM          LR        PValue  \\\n",
       "0  NC_000913.3  2716521      -  -8.437999  7.503037  239.021455  6.427968e-54   \n",
       "1  NC_000913.3  4540962      +  10.301635  5.383414  224.842339  7.946885e-51   \n",
       "2  NC_000913.3  2716291      -  -9.658506  5.561311  223.986410  1.221464e-50   \n",
       "3  NC_000913.3  2352451      -  -9.804095  5.699019  220.026273  8.925916e-50   \n",
       "4  NC_000913.3  3088620      +  -7.319793  8.295285  215.302668  9.572842e-49   \n",
       "\n",
       "     PValue.adj  \n",
       "0  5.655069e-49  \n",
       "1  3.495676e-46  \n",
       "2  3.581983e-46  \n",
       "3  1.963166e-45  \n",
       "4  1.684361e-44  "
      ]
     },
     "execution_count": 7,
     "metadata": {},
     "output_type": "execute_result"
    }
   ],
   "source": [
    "TCS_DF.head()"
   ]
  },
  {
   "cell_type": "code",
   "execution_count": 8,
   "metadata": {},
   "outputs": [
    {
     "data": {
      "text/html": [
       "<div>\n",
       "<style scoped>\n",
       "    .dataframe tbody tr th:only-of-type {\n",
       "        vertical-align: middle;\n",
       "    }\n",
       "\n",
       "    .dataframe tbody tr th {\n",
       "        vertical-align: top;\n",
       "    }\n",
       "\n",
       "    .dataframe thead th {\n",
       "        text-align: right;\n",
       "    }\n",
       "</style>\n",
       "<table border=\"1\" class=\"dataframe\">\n",
       "  <thead>\n",
       "    <tr style=\"text-align: right;\">\n",
       "      <th></th>\n",
       "      <th>SeqID</th>\n",
       "      <th>Pos</th>\n",
       "      <th>Strand</th>\n",
       "      <th>logFC</th>\n",
       "      <th>logCPM</th>\n",
       "      <th>LR</th>\n",
       "      <th>PValue</th>\n",
       "      <th>PValue.adj</th>\n",
       "    </tr>\n",
       "  </thead>\n",
       "  <tbody>\n",
       "    <tr>\n",
       "      <th>0</th>\n",
       "      <td>NC_000913.3</td>\n",
       "      <td>4035239</td>\n",
       "      <td>+</td>\n",
       "      <td>6.579625</td>\n",
       "      <td>7.544219</td>\n",
       "      <td>171.331381</td>\n",
       "      <td>3.787792e-39</td>\n",
       "      <td>4.230585e-35</td>\n",
       "    </tr>\n",
       "    <tr>\n",
       "      <th>1</th>\n",
       "      <td>NC_000913.3</td>\n",
       "      <td>3941516</td>\n",
       "      <td>+</td>\n",
       "      <td>6.456402</td>\n",
       "      <td>7.637585</td>\n",
       "      <td>166.394699</td>\n",
       "      <td>4.535745e-38</td>\n",
       "      <td>1.688658e-34</td>\n",
       "    </tr>\n",
       "    <tr>\n",
       "      <th>2</th>\n",
       "      <td>NC_000913.3</td>\n",
       "      <td>4166367</td>\n",
       "      <td>+</td>\n",
       "      <td>6.693705</td>\n",
       "      <td>7.327556</td>\n",
       "      <td>166.736094</td>\n",
       "      <td>3.820110e-38</td>\n",
       "      <td>1.688658e-34</td>\n",
       "    </tr>\n",
       "    <tr>\n",
       "      <th>3</th>\n",
       "      <td>NC_000913.3</td>\n",
       "      <td>2282441</td>\n",
       "      <td>+</td>\n",
       "      <td>6.583028</td>\n",
       "      <td>4.020348</td>\n",
       "      <td>154.571484</td>\n",
       "      <td>1.737155e-35</td>\n",
       "      <td>4.850570e-32</td>\n",
       "    </tr>\n",
       "    <tr>\n",
       "      <th>4</th>\n",
       "      <td>NC_000913.3</td>\n",
       "      <td>3195240</td>\n",
       "      <td>-</td>\n",
       "      <td>5.957071</td>\n",
       "      <td>6.537750</td>\n",
       "      <td>153.535451</td>\n",
       "      <td>2.925851e-35</td>\n",
       "      <td>6.535767e-32</td>\n",
       "    </tr>\n",
       "  </tbody>\n",
       "</table>\n",
       "</div>"
      ],
      "text/plain": [
       "         SeqID      Pos Strand     logFC    logCPM          LR        PValue  \\\n",
       "0  NC_000913.3  4035239      +  6.579625  7.544219  171.331381  3.787792e-39   \n",
       "1  NC_000913.3  3941516      +  6.456402  7.637585  166.394699  4.535745e-38   \n",
       "2  NC_000913.3  4166367      +  6.693705  7.327556  166.736094  3.820110e-38   \n",
       "3  NC_000913.3  2282441      +  6.583028  4.020348  154.571484  1.737155e-35   \n",
       "4  NC_000913.3  3195240      -  5.957071  6.537750  153.535451  2.925851e-35   \n",
       "\n",
       "     PValue.adj  \n",
       "0  4.230585e-35  \n",
       "1  1.688658e-34  \n",
       "2  1.688658e-34  \n",
       "3  4.850570e-32  \n",
       "4  6.535767e-32  "
      ]
     },
     "execution_count": 8,
     "metadata": {},
     "output_type": "execute_result"
    }
   ],
   "source": [
    "T_TSS_DF.head()"
   ]
  },
  {
   "cell_type": "code",
   "execution_count": 9,
   "metadata": {},
   "outputs": [],
   "source": [
    "def CreateLociList(DF, N):\n",
    "    DF_subset = DF.head(N)\n",
    "    LociList = [\"_\".join(i) for i in zip(DF_subset[\"SeqID\"], DF_subset[\"Pos\"].map(str), DF_subset[\"Strand\"])]\n",
    "    if len(set(LociList)) != N:\n",
    "        print(\"Duplicates in the DF!\")\n",
    "    return(LociList)"
   ]
  },
  {
   "cell_type": "code",
   "execution_count": 10,
   "metadata": {},
   "outputs": [],
   "source": [
    "N = 1000\n",
    "TCS_Loci_top1000 = CreateLociList(TCS_DF, N)\n",
    "T_TSS_Loci_top1000 = CreateLociList(T_TSS_DF, N)"
   ]
  },
  {
   "cell_type": "code",
   "execution_count": 11,
   "metadata": {},
   "outputs": [
    {
     "data": {
      "text/plain": [
       "1000"
      ]
     },
     "execution_count": 11,
     "metadata": {},
     "output_type": "execute_result"
    }
   ],
   "source": [
    "len(set(TCS_Loci_top1000))"
   ]
  },
  {
   "cell_type": "code",
   "execution_count": 12,
   "metadata": {},
   "outputs": [
    {
     "data": {
      "text/plain": [
       "1000"
      ]
     },
     "execution_count": 12,
     "metadata": {},
     "output_type": "execute_result"
    }
   ],
   "source": [
    "len(set(T_TSS_Loci_top1000))"
   ]
  },
  {
   "cell_type": "code",
   "execution_count": 20,
   "metadata": {},
   "outputs": [],
   "source": [
    "TCS_TSS_overlap = 2*N-len(set(T_TSS_Loci_top1000 + TCS_Loci_top1000))"
   ]
  },
  {
   "cell_type": "code",
   "execution_count": 21,
   "metadata": {},
   "outputs": [],
   "source": [
    "from matplotlib_venn import venn2\n",
    "from matplotlib import pyplot as plt"
   ]
  },
  {
   "cell_type": "code",
   "execution_count": 35,
   "metadata": {},
   "outputs": [
    {
     "data": {
      "image/png": "[encoded data removed]",
      "text/plain": [
       "<Figure size 720x720 with 1 Axes>"
      ]
     },
     "metadata": {},
     "output_type": "display_data"
    }
   ],
   "source": [
    "figure = plt.figure(figsize=(10, 10))\n",
    "venn2(subsets=(N, N, TCS_TSS_overlap), \n",
    "      set_labels=(\"Top-1000\\nof predicted\\ntranscript cleavage sites\", \"Top-1000\\nof predicted\\ntranscription start sites\"))\n",
    "plt.savefig(\"Results/Pictures/TCS_vs_TSS_venn.png\", dpi=300)"
   ]
  },
  {
   "cell_type": "code",
   "execution_count": 34,
   "metadata": {},
   "outputs": [],
   "source": [
    "?plt.savefig"
   ]
  }
 ],
 "metadata": {
  "kernelspec": {
   "display_name": "Python 3",
   "language": "python",
   "name": "python3"
  },
  "language_info": {
   "codemirror_mode": {
    "name": "ipython",
    "version": 3
   },
   "file_extension": ".py",
   "mimetype": "text/x-python",
   "name": "python",
   "nbconvert_exporter": "python",
   "pygments_lexer": "ipython3",
   "version": "3.8.5"
  }
 },
 "nbformat": 4,
 "nbformat_minor": 4
}
