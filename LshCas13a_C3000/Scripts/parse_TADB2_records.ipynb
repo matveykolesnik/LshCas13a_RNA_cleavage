{
 "cells": [
  {
   "cell_type": "code",
   "execution_count": 1,
   "id": "2b36e23e",
   "metadata": {},
   "outputs": [],
   "source": [
    "import os"
   ]
  },
  {
   "cell_type": "code",
   "execution_count": 2,
   "id": "542272ca",
   "metadata": {},
   "outputs": [],
   "source": [
    "WD=\"/home/ledum/data/LshCas13a_RNA_cleavage/LshCas13a_C3000/\"\n",
    "os.chdir(WD)"
   ]
  },
  {
   "cell_type": "code",
   "execution_count": 3,
   "id": "21e8b59c",
   "metadata": {},
   "outputs": [],
   "source": [
    "TADB_Type_I_file = \"Annotations/TADB2_type_I_AT.fasta\""
   ]
  },
  {
   "cell_type": "code",
   "execution_count": 4,
   "id": "b33e421b",
   "metadata": {},
   "outputs": [],
   "source": [
    "from Bio import SeqIO\n",
    "import re"
   ]
  },
  {
   "cell_type": "code",
   "execution_count": 5,
   "id": "62e8adf2",
   "metadata": {},
   "outputs": [],
   "source": [
    "E_coli_TA = []"
   ]
  },
  {
   "cell_type": "code",
   "execution_count": 10,
   "id": "d931740f",
   "metadata": {},
   "outputs": [],
   "source": [
    "for record in SeqIO.parse(TADB_Type_I_file, format=\"fasta\"):\n",
    "    if \"NC_000913.3\" not in record.description:\n",
    "        continue\n",
    "    E_coli_TA.append(record)"
   ]
  },
  {
   "cell_type": "code",
   "execution_count": 11,
   "id": "d268a582",
   "metadata": {},
   "outputs": [
    {
     "data": {
      "text/plain": [
       "14"
      ]
     },
     "execution_count": 11,
     "metadata": {},
     "output_type": "execute_result"
    }
   ],
   "source": [
    "SeqIO.write(E_coli_TA, \"Annotations/TADB2_type_I_AT_E_coli_MG1665.fasta\", format=\"fasta\")"
   ]
  },
  {
   "cell_type": "code",
   "execution_count": 14,
   "id": "e8529e30",
   "metadata": {},
   "outputs": [
    {
     "name": "stdout",
     "output_type": "stream",
     "text": [
      "ID: TADB|AT6329\n",
      "Name: TADB|AT6329\n",
      "Description: TADB|AT6329 gi|556503834|ref|NC_000913.3|:1269323-1269389 NC_000913.3 Escherichia coli str. K-12 substr. MG1655, complete genome [b4420]\n",
      "Number of features: 0\n",
      "Seq('GTTCTGGTTCAAGATTAGCCCCCGTTCTGTTGTCAGGTTGTACCTCTCAACGTG...CTC')\n",
      "ID: TADB|AT6330\n",
      "Name: TADB|AT6330\n",
      "Description: TADB|AT6330 gi|556503834|ref|NC_000913.3|:1269858-1269923 NC_000913.3 Escherichia coli str. K-12 substr. MG1655, complete genome [b4422]\n",
      "Number of features: 0\n",
      "Seq('GTCTGGTTTCAAGATTAGCCCCCGTTCTGTTGTCAGGTTTTACCTCTCAACGTG...TCT')\n",
      "ID: TADB|AT6331\n",
      "Name: TADB|AT6331\n",
      "Description: TADB|AT6331 gi|556503834|ref|NC_000913.3|:1270393-1270460 NC_000913.3 Escherichia coli str. K-12 substr. MG1655, complete genome [b4424]\n",
      "Number of features: 0\n",
      "Seq('GTCTGGTTTCAAGATTAGCCCCCGTTTTGTTGTCAGGTTTTACCTCTCAACGTG...TCT')\n",
      "ID: TADB|AT6332\n",
      "Name: TADB|AT6332\n",
      "Description: TADB|AT6332 gi|556503834|ref|NC_000913.3|:3700136-3700201 NC_000913.3 Escherichia coli str. K-12 substr. MG1655, complete genome [b4454]\n",
      "Number of features: 0\n",
      "Seq('GTCTAGAGTCAAGATTAGCCCCCGTGGTGTTGTCAGGTGCATACCTGCAACGTG...TCT')\n",
      "ID: TADB|AT6350\n",
      "Name: TADB|AT6350\n",
      "Description: TADB|AT6350 gi|556503834|ref|NC_000913.3|:c3853257-3853118 NC_000913.3 Escherichia coli str. K-12 substr. MG1655, complete genome [b4616]\n",
      "Number of features: 0\n",
      "Seq('GCACTAAATACGTCAAAATTCGTGCCGAAATTGCGCGTTCTGCGCGGAACACGT...TTT')\n",
      "ID: TADB|AT6352\n",
      "Name: TADB|AT6352\n",
      "Description: TADB|AT6352 gi|556503834|ref|NC_000913.3|:4579835-4579911 NC_000913.3 Escherichia coli str. K-12 substr. MG1655, complete genome [b4625]\n",
      "Number of features: 0\n",
      "Seq('AGTCATAACTGCTATTCTCCAGGAATAGTGATTGTGATTAGCGATGCGGGTGTG...GCT')\n",
      "ID: TADB|AT6353\n",
      "Name: TADB|AT6353\n",
      "Description: TADB|AT6353 gi|556503834|ref|NC_000913.3|:2153309-2153451 NC_000913.3 Escherichia coli str. K-12 substr. MG1655, complete genome [b4436]\n",
      "Number of features: 0\n",
      "Seq('GTGAGGGTTAGGGAGAGGTTTCCCCCTCCCCCTGGTGTTCTTAGTAAGCCTGGA...TTT')\n",
      "ID: TADB|AT6354\n",
      "Name: TADB|AT6354\n",
      "Description: TADB|AT6354 gi|556503834|ref|NC_000913.3|:2153644-2153779 NC_000913.3 Escherichia coli str. K-12 substr. MG1655, complete genome [b4437]\n",
      "Number of features: 0\n",
      "Seq('GTGAGGGTAGAGCGGGGTTTCCCCCGCCCTGGTAGTCTTAGTAAGCGGGGAAGC...TTT')\n",
      "ID: TADB|AT6355\n",
      "Name: TADB|AT6355\n",
      "Description: TADB|AT6355 gi|556503834|ref|NC_000913.3|:3056849-3056988 NC_000913.3 Escherichia coli str. K-12 substr. MG1655, complete genome [b4446]\n",
      "Number of features: 0\n",
      "Seq('GTAAGGGTAAGGGAGGATTGCTCCTCCCCTGAGACTGACTGTTAATAAGCGCTG...TTT')\n",
      "ID: TADB|AT6356\n",
      "Name: TADB|AT6356\n",
      "Description: TADB|AT6356 gi|556503834|ref|NC_000913.3|:c3194865-3194723 NC_000913.3 Escherichia coli str. K-12 substr. MG1655, complete genome [b4447]\n",
      "Number of features: 0\n",
      "Seq('ACAAGGGTGAGGGAGGATTTCTCCCCCCTCTGATTGGCTGTTAATAAGCTGCGA...TTT')\n",
      "ID: TADB|AT6357\n",
      "Name: TADB|AT6357\n",
      "Description: TADB|AT6357 gi|556503834|ref|NC_000913.3|:c3195240-3195099 NC_000913.3 Escherichia coli str. K-12 substr. MG1655, complete genome [b4611]\n",
      "Number of features: 0\n",
      "Seq('ACAAGGGTAAGGGAGGATTTCTCCCCCCTCTGATGAGTTGTTAGTAAGTCGGGA...TTT')\n",
      "ID: TADB|AT6358\n",
      "Name: TADB|AT6358\n",
      "Description: TADB|AT6358 gi|556503834|ref|NC_000913.3|:2700520-2700596 NC_000913.3 Escherichia coli str. K-12 substr. MG1655, complete genome [b4608]\n",
      "Number of features: 0\n",
      "Seq('GTTGAGGGTGCATGCTGCACAAAATTAAAGTTAAAAAGTAAAACCCCCGTTCCT...TTT')\n",
      "ID: TADB|AT6362\n",
      "Name: TADB|AT6362\n",
      "Description: TADB|AT6362 gi|556503834|ref|NC_000913.3|:1413556-1413734 NC_000913.3 Escherichia coli str. K-12 substr. MG1655, complete genome [b4714]\n",
      "Number of features: 0\n",
      "Seq('GAGGACTGAAGTTTCTCGCAATTAAAATTTATCAGTTTTACTTTCTGCTCTCTG...TTT')\n",
      "ID: TADB|AT6364\n",
      "Name: TADB|AT6364\n",
      "Description: TADB|AT6364 gi|556503834|ref|NC_000913.3|:3648063-3648146 NC_000913.3 Escherichia coli str. K-12 substr. MG1655, complete genome [b4712]\n",
      "Number of features: 0\n",
      "Seq('TTAGATGATGGCTATCTCACTCCAGTCAGAGCCACCAACTCAGGGCTGGAAAGT...TAC')\n"
     ]
    }
   ],
   "source": [
    "for i in E_coli_TA:\n",
    "    print(i)"
   ]
  },
  {
   "cell_type": "code",
   "execution_count": null,
   "id": "0ad976ca",
   "metadata": {},
   "outputs": [],
   "source": []
  }
 ],
 "metadata": {
  "kernelspec": {
   "display_name": "Python 3 (ipykernel)",
   "language": "python",
   "name": "python3"
  },
  "language_info": {
   "codemirror_mode": {
    "name": "ipython",
    "version": 3
   },
   "file_extension": ".py",
   "mimetype": "text/x-python",
   "name": "python",
   "nbconvert_exporter": "python",
   "pygments_lexer": "ipython3",
   "version": "3.9.12"
  }
 },
 "nbformat": 4,
 "nbformat_minor": 5
}
