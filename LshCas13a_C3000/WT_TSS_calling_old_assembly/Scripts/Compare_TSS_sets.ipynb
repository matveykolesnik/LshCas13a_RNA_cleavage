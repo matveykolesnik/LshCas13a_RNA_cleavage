{
 "cells": [
  {
   "cell_type": "code",
   "execution_count": 1,
   "metadata": {},
   "outputs": [],
   "source": [
    "import os\n",
    "import pandas as pd"
   ]
  },
  {
   "cell_type": "code",
   "execution_count": 2,
   "metadata": {},
   "outputs": [],
   "source": [
    "os.chdir(\"/home/matvey/data/LshCas13a_RNA_cleavage/LshCas13a_C3000/WT_TSS_calling_old_assembly/\")"
   ]
  },
  {
   "cell_type": "code",
   "execution_count": 3,
   "metadata": {},
   "outputs": [],
   "source": [
    "RegulonDB_TSS = \"Annotation/RegulonDB_TSS_annotation.txt\""
   ]
  },
  {
   "cell_type": "code",
   "execution_count": 4,
   "metadata": {},
   "outputs": [
    {
     "data": {
      "text/html": [
       "<div>\n",
       "<style scoped>\n",
       "    .dataframe tbody tr th:only-of-type {\n",
       "        vertical-align: middle;\n",
       "    }\n",
       "\n",
       "    .dataframe tbody tr th {\n",
       "        vertical-align: top;\n",
       "    }\n",
       "\n",
       "    .dataframe thead th {\n",
       "        text-align: right;\n",
       "    }\n",
       "</style>\n",
       "<table border=\"1\" class=\"dataframe\">\n",
       "  <thead>\n",
       "    <tr style=\"text-align: right;\">\n",
       "      <th></th>\n",
       "      <th>LeftPos</th>\n",
       "      <th>RightPos</th>\n",
       "      <th>MaxFreqPos</th>\n",
       "      <th>Length</th>\n",
       "      <th>ReadsNumber</th>\n",
       "      <th>Strand</th>\n",
       "      <th>Gene</th>\n",
       "      <th>BN</th>\n",
       "      <th>GeneStart</th>\n",
       "      <th>GeneEnd</th>\n",
       "      <th>Orientation</th>\n",
       "    </tr>\n",
       "  </thead>\n",
       "  <tbody>\n",
       "    <tr>\n",
       "      <th>0</th>\n",
       "      <td>2310676</td>\n",
       "      <td>2310676</td>\n",
       "      <td>2310676</td>\n",
       "      <td>1</td>\n",
       "      <td>3092254</td>\n",
       "      <td>forward</td>\n",
       "      <td>ompC</td>\n",
       "      <td>b2215</td>\n",
       "      <td>2309668.0</td>\n",
       "      <td>2310771.0</td>\n",
       "      <td>InAntiSense</td>\n",
       "    </tr>\n",
       "    <tr>\n",
       "      <th>1</th>\n",
       "      <td>3717908</td>\n",
       "      <td>3717914</td>\n",
       "      <td>3717912</td>\n",
       "      <td>7</td>\n",
       "      <td>3380643</td>\n",
       "      <td>forward</td>\n",
       "      <td>cspA</td>\n",
       "      <td>b3556</td>\n",
       "      <td>3718072.0</td>\n",
       "      <td>3718284.0</td>\n",
       "      <td>UpSenseExten</td>\n",
       "    </tr>\n",
       "    <tr>\n",
       "      <th>2</th>\n",
       "      <td>784812</td>\n",
       "      <td>784818</td>\n",
       "      <td>784815</td>\n",
       "      <td>7</td>\n",
       "      <td>2327842</td>\n",
       "      <td>forward</td>\n",
       "      <td>aroG</td>\n",
       "      <td>b0754</td>\n",
       "      <td>784856.0</td>\n",
       "      <td>785908.0</td>\n",
       "      <td>UpSense</td>\n",
       "    </tr>\n",
       "    <tr>\n",
       "      <th>3</th>\n",
       "      <td>4049057</td>\n",
       "      <td>4049063</td>\n",
       "      <td>4049059</td>\n",
       "      <td>7</td>\n",
       "      <td>1754833</td>\n",
       "      <td>forward</td>\n",
       "      <td>csrC</td>\n",
       "      <td>b4457</td>\n",
       "      <td>4049059.0</td>\n",
       "      <td>4049303.0</td>\n",
       "      <td>UpSense</td>\n",
       "    </tr>\n",
       "    <tr>\n",
       "      <th>4</th>\n",
       "      <td>781224</td>\n",
       "      <td>781229</td>\n",
       "      <td>781226</td>\n",
       "      <td>6</td>\n",
       "      <td>1155544</td>\n",
       "      <td>forward</td>\n",
       "      <td>nadA</td>\n",
       "      <td>b0750</td>\n",
       "      <td>781308.0</td>\n",
       "      <td>782351.0</td>\n",
       "      <td>UpSense</td>\n",
       "    </tr>\n",
       "    <tr>\n",
       "      <th>...</th>\n",
       "      <td>...</td>\n",
       "      <td>...</td>\n",
       "      <td>...</td>\n",
       "      <td>...</td>\n",
       "      <td>...</td>\n",
       "      <td>...</td>\n",
       "      <td>...</td>\n",
       "      <td>...</td>\n",
       "      <td>...</td>\n",
       "      <td>...</td>\n",
       "      <td>...</td>\n",
       "    </tr>\n",
       "    <tr>\n",
       "      <th>5192</th>\n",
       "      <td>709696</td>\n",
       "      <td>709696</td>\n",
       "      <td>709696</td>\n",
       "      <td>1</td>\n",
       "      <td>65</td>\n",
       "      <td>reverse</td>\n",
       "      <td>fur</td>\n",
       "      <td>b0683</td>\n",
       "      <td>709423.0</td>\n",
       "      <td>709869.0</td>\n",
       "      <td>InSense</td>\n",
       "    </tr>\n",
       "    <tr>\n",
       "      <th>5193</th>\n",
       "      <td>2639955</td>\n",
       "      <td>2639955</td>\n",
       "      <td>2639955</td>\n",
       "      <td>1</td>\n",
       "      <td>60</td>\n",
       "      <td>reverse</td>\n",
       "      <td>ispG</td>\n",
       "      <td>b2515</td>\n",
       "      <td>2638708.0</td>\n",
       "      <td>2639826.0</td>\n",
       "      <td>UpSense</td>\n",
       "    </tr>\n",
       "    <tr>\n",
       "      <th>5194</th>\n",
       "      <td>1249116</td>\n",
       "      <td>1249116</td>\n",
       "      <td>1249116</td>\n",
       "      <td>1</td>\n",
       "      <td>53</td>\n",
       "      <td>reverse</td>\n",
       "      <td>dhaL</td>\n",
       "      <td>b1199</td>\n",
       "      <td>1248348.0</td>\n",
       "      <td>1248980.0</td>\n",
       "      <td>UpSense</td>\n",
       "    </tr>\n",
       "    <tr>\n",
       "      <th>5195</th>\n",
       "      <td>3720573</td>\n",
       "      <td>3720573</td>\n",
       "      <td>3720573</td>\n",
       "      <td>1</td>\n",
       "      <td>41</td>\n",
       "      <td>reverse</td>\n",
       "      <td>glyS</td>\n",
       "      <td>b3559</td>\n",
       "      <td>3720351.0</td>\n",
       "      <td>3722420.0</td>\n",
       "      <td>InSense</td>\n",
       "    </tr>\n",
       "    <tr>\n",
       "      <th>5196</th>\n",
       "      <td>279115</td>\n",
       "      <td>279115</td>\n",
       "      <td>279115</td>\n",
       "      <td>1</td>\n",
       "      <td>29</td>\n",
       "      <td>reverse</td>\n",
       "      <td>insA-2</td>\n",
       "      <td>b0265</td>\n",
       "      <td>278824.0</td>\n",
       "      <td>279099.0</td>\n",
       "      <td>UpSense</td>\n",
       "    </tr>\n",
       "  </tbody>\n",
       "</table>\n",
       "<p>5197 rows × 11 columns</p>\n",
       "</div>"
      ],
      "text/plain": [
       "      LeftPos  RightPos  MaxFreqPos  Length  ReadsNumber   Strand    Gene  \\\n",
       "0     2310676   2310676     2310676       1      3092254  forward    ompC   \n",
       "1     3717908   3717914     3717912       7      3380643  forward    cspA   \n",
       "2      784812    784818      784815       7      2327842  forward    aroG   \n",
       "3     4049057   4049063     4049059       7      1754833  forward    csrC   \n",
       "4      781224    781229      781226       6      1155544  forward    nadA   \n",
       "...       ...       ...         ...     ...          ...      ...     ...   \n",
       "5192   709696    709696      709696       1           65  reverse     fur   \n",
       "5193  2639955   2639955     2639955       1           60  reverse    ispG   \n",
       "5194  1249116   1249116     1249116       1           53  reverse    dhaL   \n",
       "5195  3720573   3720573     3720573       1           41  reverse    glyS   \n",
       "5196   279115    279115      279115       1           29  reverse  insA-2   \n",
       "\n",
       "         BN  GeneStart    GeneEnd   Orientation  \n",
       "0     b2215  2309668.0  2310771.0   InAntiSense  \n",
       "1     b3556  3718072.0  3718284.0  UpSenseExten  \n",
       "2     b0754   784856.0   785908.0       UpSense  \n",
       "3     b4457  4049059.0  4049303.0       UpSense  \n",
       "4     b0750   781308.0   782351.0       UpSense  \n",
       "...     ...        ...        ...           ...  \n",
       "5192  b0683   709423.0   709869.0       InSense  \n",
       "5193  b2515  2638708.0  2639826.0       UpSense  \n",
       "5194  b1199  1248348.0  1248980.0       UpSense  \n",
       "5195  b3559  3720351.0  3722420.0       InSense  \n",
       "5196  b0265   278824.0   279099.0       UpSense  \n",
       "\n",
       "[5197 rows x 11 columns]"
      ]
     },
     "execution_count": 4,
     "metadata": {},
     "output_type": "execute_result"
    }
   ],
   "source": [
    "Header = [\"LeftPos\", \"RightPos\", \"MaxFreqPos\", \"Length\", \"ReadsNumber\", \n",
    "          \"Strand\", \"Gene\", \"BN\", \"GeneStart\", \"GeneEnd\", \"Orientation\"]\n",
    "RegulonDB_TSS_DF = pd.read_csv(RegulonDB_TSS, sep=\"\\t\",comment=\"#\", names=Header)\n",
    "RegulonDB_TSS_DF"
   ]
  },
  {
   "cell_type": "code",
   "execution_count": 5,
   "metadata": {},
   "outputs": [
    {
     "data": {
      "text/html": [
       "<div>\n",
       "<style scoped>\n",
       "    .dataframe tbody tr th:only-of-type {\n",
       "        vertical-align: middle;\n",
       "    }\n",
       "\n",
       "    .dataframe tbody tr th {\n",
       "        vertical-align: top;\n",
       "    }\n",
       "\n",
       "    .dataframe thead th {\n",
       "        text-align: right;\n",
       "    }\n",
       "</style>\n",
       "<table border=\"1\" class=\"dataframe\">\n",
       "  <thead>\n",
       "    <tr style=\"text-align: right;\">\n",
       "      <th></th>\n",
       "      <th>SeqID</th>\n",
       "      <th>Pos</th>\n",
       "      <th>Strand</th>\n",
       "      <th>logFC</th>\n",
       "      <th>logCPM</th>\n",
       "      <th>LR</th>\n",
       "      <th>PValue</th>\n",
       "      <th>PValue.adj</th>\n",
       "    </tr>\n",
       "  </thead>\n",
       "  <tbody>\n",
       "    <tr>\n",
       "      <th>0</th>\n",
       "      <td>NC_000913.2</td>\n",
       "      <td>1403775</td>\n",
       "      <td>-</td>\n",
       "      <td>6.053556</td>\n",
       "      <td>10.430569</td>\n",
       "      <td>1.924795e+02</td>\n",
       "      <td>9.144005e-44</td>\n",
       "      <td>8.503924e-40</td>\n",
       "    </tr>\n",
       "    <tr>\n",
       "      <th>1</th>\n",
       "      <td>NC_000913.2</td>\n",
       "      <td>3446244</td>\n",
       "      <td>-</td>\n",
       "      <td>4.899009</td>\n",
       "      <td>8.238370</td>\n",
       "      <td>1.716730e+02</td>\n",
       "      <td>3.189861e-39</td>\n",
       "      <td>1.483285e-35</td>\n",
       "    </tr>\n",
       "    <tr>\n",
       "      <th>2</th>\n",
       "      <td>NC_000913.2</td>\n",
       "      <td>1840332</td>\n",
       "      <td>+</td>\n",
       "      <td>7.654662</td>\n",
       "      <td>4.170365</td>\n",
       "      <td>1.669385e+02</td>\n",
       "      <td>3.450305e-38</td>\n",
       "      <td>1.069595e-34</td>\n",
       "    </tr>\n",
       "    <tr>\n",
       "      <th>3</th>\n",
       "      <td>NC_000913.2</td>\n",
       "      <td>3579041</td>\n",
       "      <td>-</td>\n",
       "      <td>6.044022</td>\n",
       "      <td>5.165173</td>\n",
       "      <td>1.655515e+02</td>\n",
       "      <td>6.931823e-38</td>\n",
       "      <td>1.611649e-34</td>\n",
       "    </tr>\n",
       "    <tr>\n",
       "      <th>4</th>\n",
       "      <td>NC_000913.2</td>\n",
       "      <td>3646005</td>\n",
       "      <td>-</td>\n",
       "      <td>4.847360</td>\n",
       "      <td>8.029278</td>\n",
       "      <td>1.620750e+02</td>\n",
       "      <td>3.983827e-37</td>\n",
       "      <td>7.409919e-34</td>\n",
       "    </tr>\n",
       "    <tr>\n",
       "      <th>...</th>\n",
       "      <td>...</td>\n",
       "      <td>...</td>\n",
       "      <td>...</td>\n",
       "      <td>...</td>\n",
       "      <td>...</td>\n",
       "      <td>...</td>\n",
       "      <td>...</td>\n",
       "      <td>...</td>\n",
       "    </tr>\n",
       "    <tr>\n",
       "      <th>9295</th>\n",
       "      <td>NC_000913.2</td>\n",
       "      <td>1096871</td>\n",
       "      <td>-</td>\n",
       "      <td>-0.001227</td>\n",
       "      <td>5.438050</td>\n",
       "      <td>7.339334e-06</td>\n",
       "      <td>9.978384e-01</td>\n",
       "      <td>9.983433e-01</td>\n",
       "    </tr>\n",
       "    <tr>\n",
       "      <th>9296</th>\n",
       "      <td>NC_000913.2</td>\n",
       "      <td>106549</td>\n",
       "      <td>+</td>\n",
       "      <td>-0.000818</td>\n",
       "      <td>5.996207</td>\n",
       "      <td>5.213839e-06</td>\n",
       "      <td>9.981781e-01</td>\n",
       "      <td>9.985002e-01</td>\n",
       "    </tr>\n",
       "    <tr>\n",
       "      <th>9297</th>\n",
       "      <td>NC_000913.2</td>\n",
       "      <td>1755638</td>\n",
       "      <td>+</td>\n",
       "      <td>-0.000804</td>\n",
       "      <td>5.705686</td>\n",
       "      <td>3.611103e-06</td>\n",
       "      <td>9.984838e-01</td>\n",
       "      <td>9.986986e-01</td>\n",
       "    </tr>\n",
       "    <tr>\n",
       "      <th>9298</th>\n",
       "      <td>NC_000913.2</td>\n",
       "      <td>4587875</td>\n",
       "      <td>-</td>\n",
       "      <td>-0.000480</td>\n",
       "      <td>4.838283</td>\n",
       "      <td>1.970992e-06</td>\n",
       "      <td>9.988798e-01</td>\n",
       "      <td>9.989873e-01</td>\n",
       "    </tr>\n",
       "    <tr>\n",
       "      <th>9299</th>\n",
       "      <td>NC_000913.2</td>\n",
       "      <td>4178777</td>\n",
       "      <td>+</td>\n",
       "      <td>-0.000090</td>\n",
       "      <td>4.238177</td>\n",
       "      <td>8.294222e-08</td>\n",
       "      <td>9.997702e-01</td>\n",
       "      <td>9.997702e-01</td>\n",
       "    </tr>\n",
       "  </tbody>\n",
       "</table>\n",
       "<p>9300 rows × 8 columns</p>\n",
       "</div>"
      ],
      "text/plain": [
       "            SeqID      Pos Strand     logFC     logCPM            LR  \\\n",
       "0     NC_000913.2  1403775      -  6.053556  10.430569  1.924795e+02   \n",
       "1     NC_000913.2  3446244      -  4.899009   8.238370  1.716730e+02   \n",
       "2     NC_000913.2  1840332      +  7.654662   4.170365  1.669385e+02   \n",
       "3     NC_000913.2  3579041      -  6.044022   5.165173  1.655515e+02   \n",
       "4     NC_000913.2  3646005      -  4.847360   8.029278  1.620750e+02   \n",
       "...           ...      ...    ...       ...        ...           ...   \n",
       "9295  NC_000913.2  1096871      - -0.001227   5.438050  7.339334e-06   \n",
       "9296  NC_000913.2   106549      + -0.000818   5.996207  5.213839e-06   \n",
       "9297  NC_000913.2  1755638      + -0.000804   5.705686  3.611103e-06   \n",
       "9298  NC_000913.2  4587875      - -0.000480   4.838283  1.970992e-06   \n",
       "9299  NC_000913.2  4178777      + -0.000090   4.238177  8.294222e-08   \n",
       "\n",
       "            PValue    PValue.adj  \n",
       "0     9.144005e-44  8.503924e-40  \n",
       "1     3.189861e-39  1.483285e-35  \n",
       "2     3.450305e-38  1.069595e-34  \n",
       "3     6.931823e-38  1.611649e-34  \n",
       "4     3.983827e-37  7.409919e-34  \n",
       "...            ...           ...  \n",
       "9295  9.978384e-01  9.983433e-01  \n",
       "9296  9.981781e-01  9.985002e-01  \n",
       "9297  9.984838e-01  9.986986e-01  \n",
       "9298  9.988798e-01  9.989873e-01  \n",
       "9299  9.997702e-01  9.997702e-01  \n",
       "\n",
       "[9300 rows x 8 columns]"
      ]
     },
     "execution_count": 5,
     "metadata": {},
     "output_type": "execute_result"
    }
   ],
   "source": [
    "WT_NT_TSS = \"Results/Tables/TSS_detection_tables/NT_cells_TSS_predictions.tsv\"\n",
    "WT_NT_TSS_DF = pd.read_csv(WT_NT_TSS, sep=\"\\t\")\n",
    "WT_NT_TSS_DF"
   ]
  },
  {
   "cell_type": "code",
   "execution_count": 6,
   "metadata": {},
   "outputs": [],
   "source": [
    "import matplotlib.pyplot as plt\n",
    "import numpy as np\n",
    "import seaborn as sns"
   ]
  },
  {
   "cell_type": "code",
   "execution_count": 7,
   "metadata": {},
   "outputs": [
    {
     "data": {
      "text/plain": [
       "<AxesSubplot:xlabel='PValue', ylabel='Count'>"
      ]
     },
     "execution_count": 7,
     "metadata": {},
     "output_type": "execute_result"
    },
    {
     "data": {
      "image/png": "[encoded data removed]",
      "text/plain": [
       "<Figure size 720x360 with 1 Axes>"
      ]
     },
     "metadata": {
      "needs_background": "light"
     },
     "output_type": "display_data"
    }
   ],
   "source": [
    "ax, figure = plt.subplots(figsize=(10,5))\n",
    "sns.histplot(WT_NT_TSS_DF[\"PValue\"])"
   ]
  },
  {
   "cell_type": "code",
   "execution_count": 8,
   "metadata": {},
   "outputs": [
    {
     "data": {
      "text/plain": [
       "<AxesSubplot:xlabel='PValue.adj', ylabel='Count'>"
      ]
     },
     "execution_count": 8,
     "metadata": {},
     "output_type": "execute_result"
    },
    {
     "data": {
      "image/png": "[encoded data removed]",
      "text/plain": [
       "<Figure size 720x360 with 1 Axes>"
      ]
     },
     "metadata": {
      "needs_background": "light"
     },
     "output_type": "display_data"
    }
   ],
   "source": [
    "ax, figure = plt.subplots(figsize=(10,5))\n",
    "sns.histplot(WT_NT_TSS_DF[\"PValue.adj\"])"
   ]
  },
  {
   "cell_type": "code",
   "execution_count": 47,
   "metadata": {},
   "outputs": [
    {
     "data": {
      "text/plain": [
       "1000"
      ]
     },
     "execution_count": 47,
     "metadata": {},
     "output_type": "execute_result"
    }
   ],
   "source": [
    "N=1000\n",
    "WT_NT_TSS_DF_topN = WT_NT_TSS_DF.head(N)\n",
    "len(WT_NT_TSS_DF_topN)"
   ]
  },
  {
   "cell_type": "code",
   "execution_count": 48,
   "metadata": {},
   "outputs": [],
   "source": [
    "def CheckOverlap(TestTurple, LeftPos, Right, Strand):\n",
    "    StrandDict = {\"forward\" : \"+\", \n",
    "                  \"reverse\" : \"-\"}\n",
    "    if StrandDict[Strand] != TestTurple.Strand:\n",
    "        return False\n",
    "    if LeftPos <= TestTurple.Pos <= Right:\n",
    "        return True\n",
    "    else:\n",
    "        return False"
   ]
  },
  {
   "cell_type": "code",
   "execution_count": 49,
   "metadata": {},
   "outputs": [],
   "source": [
    "OverlapDFs = list()\n",
    "for Turple in WT_NT_TSS_DF_topN.itertuples():\n",
    "    Overlap = RegulonDB_TSS_DF.loc[RegulonDB_TSS_DF.apply(lambda row: CheckOverlap(Turple, \n",
    "                                                                                   row[\"LeftPos\"], \n",
    "                                                                                   row[\"RightPos\"], \n",
    "                                                                                   row[\"Strand\"]), \n",
    "                                                          axis=1)]\n",
    "    if len(Overlap) > 0:\n",
    "        OverlapDFs.append(Overlap)"
   ]
  },
  {
   "cell_type": "code",
   "execution_count": 50,
   "metadata": {},
   "outputs": [
    {
     "data": {
      "text/plain": [
       "306"
      ]
     },
     "execution_count": 50,
     "metadata": {},
     "output_type": "execute_result"
    }
   ],
   "source": [
    "OverlapLength = len(OverlapDFs)\n",
    "OverlapLength"
   ]
  },
  {
   "cell_type": "code",
   "execution_count": 51,
   "metadata": {},
   "outputs": [],
   "source": [
    "import numpy as np\n",
    "from scipy.stats import fisher_exact"
   ]
  },
  {
   "cell_type": "code",
   "execution_count": 52,
   "metadata": {},
   "outputs": [
    {
     "data": {
      "text/plain": [
       "array([[    306,    6493],\n",
       "       [    694, 9271857]])"
      ]
     },
     "execution_count": 52,
     "metadata": {},
     "output_type": "execute_result"
    }
   ],
   "source": [
    "genome_length = 4639675*2\n",
    "RegulonDB_length = np.sum(RegulonDB_TSS_DF[\"Length\"])\n",
    "\n",
    "ContTable = np.array([[OverlapLength, RegulonDB_length-OverlapLength], \n",
    "                      [1000-OverlapLength, genome_length-RegulonDB_length-1000+OverlapLength]])\n",
    "ContTable"
   ]
  },
  {
   "cell_type": "code",
   "execution_count": 53,
   "metadata": {},
   "outputs": [
    {
     "data": {
      "text/plain": [
       "0.0"
      ]
     },
     "execution_count": 53,
     "metadata": {},
     "output_type": "execute_result"
    }
   ],
   "source": [
    "oddsr, pvalue = fisher_exact(ContTable)\n",
    "pvalue"
   ]
  },
  {
   "cell_type": "code",
   "execution_count": 54,
   "metadata": {},
   "outputs": [],
   "source": [
    "from matplotlib_venn import venn2"
   ]
  },
  {
   "cell_type": "code",
   "execution_count": 55,
   "metadata": {
    "scrolled": true
   },
   "outputs": [
    {
     "data": {
      "image/png": "[encoded data removed]",
      "text/plain": [
       "<Figure size 720x720 with 1 Axes>"
      ]
     },
     "metadata": {},
     "output_type": "display_data"
    }
   ],
   "source": [
    "ax, figure = plt.subplots(figsize=(10,10))\n",
    "venn2(subsets=(1000, RegulonDB_length, OverlapLength), set_labels=(\"Top-1000\\nof predicted TSS\", \"RegulonDB\\nTSS\"))\n",
    "plt.savefig(\"Results/Pictures/Predicted_TSS_vs_RegulonBD.png\", dpi=300)"
   ]
  },
  {
   "cell_type": "code",
   "execution_count": 56,
   "metadata": {},
   "outputs": [],
   "source": [
    "OverlapDFsConcat = pd.concat(OverlapDFs)"
   ]
  },
  {
   "cell_type": "code",
   "execution_count": 57,
   "metadata": {},
   "outputs": [],
   "source": [
    "from collections import Counter"
   ]
  },
  {
   "cell_type": "code",
   "execution_count": 58,
   "metadata": {},
   "outputs": [],
   "source": [
    "C = Counter()\n",
    "for i in OverlapDFsConcat[\"Orientation\"].tolist():\n",
    "    C[i] += 1"
   ]
  },
  {
   "cell_type": "code",
   "execution_count": 59,
   "metadata": {},
   "outputs": [
    {
     "data": {
      "text/plain": [
       "6799"
      ]
     },
     "execution_count": 59,
     "metadata": {},
     "output_type": "execute_result"
    }
   ],
   "source": [
    "RegulonDB_length"
   ]
  },
  {
   "cell_type": "code",
   "execution_count": 61,
   "metadata": {},
   "outputs": [],
   "source": [
    "OverlapDFsConcat.to_csv(\"Results/Tables/Verified_TSS.tsv\", sep=\"\\t\", index=False)"
   ]
  }
 ],
 "metadata": {
  "kernelspec": {
   "display_name": "Python 3",
   "language": "python",
   "name": "python3"
  },
  "language_info": {
   "codemirror_mode": {
    "name": "ipython",
    "version": 3
   },
   "file_extension": ".py",
   "mimetype": "text/x-python",
   "name": "python",
   "nbconvert_exporter": "python",
   "pygments_lexer": "ipython3",
   "version": "3.8.5"
  }
 },
 "nbformat": 4,
 "nbformat_minor": 5
}
