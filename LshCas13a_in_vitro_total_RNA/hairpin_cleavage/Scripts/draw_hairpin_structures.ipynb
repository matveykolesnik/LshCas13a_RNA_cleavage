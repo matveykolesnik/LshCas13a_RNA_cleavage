{
 "cells": [
  {
   "cell_type": "code",
   "execution_count": 172,
   "metadata": {},
   "outputs": [],
   "source": [
    "from Bio import SeqIO\n",
    "from Bio.SeqRecord import SeqRecord\n",
    "import pandas as pd\n",
    "import matplotlib as plt\n",
    "import os"
   ]
  },
  {
   "cell_type": "code",
   "execution_count": 125,
   "metadata": {},
   "outputs": [],
   "source": [
    "os.chdir(\"/home/matvey/data/LshCas13a_RNA_cleavage/LshCas13a_in_vitro_total_RNA/\")"
   ]
  },
  {
   "cell_type": "code",
   "execution_count": 188,
   "metadata": {},
   "outputs": [],
   "source": [
    "LRTTableFile = \"Results/Tables/TCS_detection_tables/LRTest_table_and_genome_features.tsv\"\n",
    "EcoliChrFile = \"Reference_sequences/NC_000913.3.fasta\"\n",
    "RNAFragmentsOutputFile = \"hairpin_cleavage/Data/top_10_ORFs_cleaved_RNA_fragments.fasta\""
   ]
  },
  {
   "cell_type": "code",
   "execution_count": 154,
   "metadata": {},
   "outputs": [],
   "source": [
    "LRTTable = pd.read_csv(LRTTableFile, sep=\"\\t\")\n",
    "LRTTable.sort_values(by=\"PValue.adj\", ascending=True, inplace=True, ignore_index=True)\n",
    "EcoliChrSeq = SeqIO.read(EcoliChrFile, \"fasta\").seq.transcribe()"
   ]
  },
  {
   "cell_type": "code",
   "execution_count": 164,
   "metadata": {},
   "outputs": [],
   "source": [
    "def extract_adj_seqs(seq, pos, strand, width):\n",
    "    assert (strand in [\"+\", \"-\"]), \"Invalid strand value\"\n",
    "    #should be 0-based coordinates\n",
    "    if strand == \"+\":\n",
    "        seq_slice = seq[pos-width : pos+width]\n",
    "    elif strand == \"-\":\n",
    "        seq_slice = seq[pos-width+1 : pos+width+1].reverse_complement()\n",
    "    return(seq_slice)"
   ]
  },
  {
   "cell_type": "code",
   "execution_count": 185,
   "metadata": {},
   "outputs": [],
   "source": [
    "Width = 100\n",
    "SubSeqsList = list()\n",
    "\n",
    "for i, row in LRTTable[LRTTable[\"MatchedFeatureType\"] == \"CDS\"].head(10).iterrows():\n",
    "    record_id = f'{row[\"MatchedFeatureGene\"]}-{row[\"Pos\"]}-({row[\"Strand\"]})'\n",
    "    record_seq = extract_adj_seqs(seq=EcoliChrSeq,\n",
    "                                  pos=row[\"Pos\"]-1,\n",
    "                                  strand=row[\"Strand\"],\n",
    "                                  width=Width)\n",
    "    \n",
    "    SubSeqsList.append(SeqRecord(id=record_id,\n",
    "                                 name=record_id,\n",
    "                                 description=f'{row[\"MatchedFeatureDescription\"]} fragment', \n",
    "                                 seq=record_seq))"
   ]
  },
  {
   "cell_type": "code",
   "execution_count": 190,
   "metadata": {
    "scrolled": true
   },
   "outputs": [],
   "source": [
    "with open(RNAFragmentsOutputFile, \"w\") as hOutput:\n",
    "    SeqIO.write(sequences=SubSeqsList, handle=hOutput, format=\"fasta\")"
   ]
  },
  {
   "cell_type": "code",
   "execution_count": 212,
   "metadata": {},
   "outputs": [],
   "source": [
    "from subprocess import Popen, PIPE\n",
    "import forgi, re"
   ]
  },
  {
   "cell_type": "code",
   "execution_count": 208,
   "metadata": {},
   "outputs": [],
   "source": [
    "DotBracketNotationFile = \"hairpin_cleavage/Data/top_10_ORFs_cleaved_RNA_fragments.dbn\""
   ]
  },
  {
   "cell_type": "code",
   "execution_count": 245,
   "metadata": {},
   "outputs": [],
   "source": [
    "energy_pattern = r\"\\((.\\d+.+)\\)\"\n",
    "with open(DotBracketNotationFile, \"w\") as hDotBracketNotationFile:\n",
    "    RNAfoldProc = Popen([\"RNAfold\", RNAFragmentsOutputFile], stdout=PIPE)\n",
    "    \n",
    "    for line in RNAfoldProc.stdout:\n",
    "        hDotBracketNotationFile.write(re.sub(energy_pattern, \"\", line.decode(\"ascii\")))"
   ]
  },
  {
   "cell_type": "code",
   "execution_count": 247,
   "metadata": {},
   "outputs": [
    {
     "data": {
      "text/plain": [
       "[<forgi.threedee.model.coarse_grain.CoarseGrainRNA at 0x7f3833364d00>,\n",
       " <forgi.threedee.model.coarse_grain.CoarseGrainRNA at 0x7f3833b07e50>,\n",
       " <forgi.threedee.model.coarse_grain.CoarseGrainRNA at 0x7f3833b07c10>,\n",
       " <forgi.threedee.model.coarse_grain.CoarseGrainRNA at 0x7f38347a1340>,\n",
       " <forgi.threedee.model.coarse_grain.CoarseGrainRNA at 0x7f3832c9c6d0>,\n",
       " <forgi.threedee.model.coarse_grain.CoarseGrainRNA at 0x7f3834907340>,\n",
       " <forgi.threedee.model.coarse_grain.CoarseGrainRNA at 0x7f38356d81f0>,\n",
       " <forgi.threedee.model.coarse_grain.CoarseGrainRNA at 0x7f3834907e80>,\n",
       " <forgi.threedee.model.coarse_grain.CoarseGrainRNA at 0x7f3834918bb0>,\n",
       " <forgi.threedee.model.coarse_grain.CoarseGrainRNA at 0x7f3834918640>]"
      ]
     },
     "execution_count": 247,
     "metadata": {},
     "output_type": "execute_result"
    }
   ],
   "source": [
    "forgi.load_rna(filename=DotBracketNotationFile, allow_many=True)"
   ]
  }
 ],
 "metadata": {
  "kernelspec": {
   "display_name": "ViennaRNA",
   "language": "python",
   "name": "viennarna"
  },
  "language_info": {
   "codemirror_mode": {
    "name": "ipython",
    "version": 3
   },
   "file_extension": ".py",
   "mimetype": "text/x-python",
   "name": "python",
   "nbconvert_exporter": "python",
   "pygments_lexer": "ipython3",
   "version": "3.8.5"
  }
 },
 "nbformat": 4,
 "nbformat_minor": 4
}
