{
 "cells": [
  {
   "cell_type": "code",
   "execution_count": 172,
   "metadata": {},
   "outputs": [],
   "source": [
    "from Bio import SeqIO\n",
    "from Bio.SeqRecord import SeqRecord\n",
    "import pandas as pd\n",
    "import matplotlib as plt\n",
    "import os"
   ]
  },
  {
   "cell_type": "code",
   "execution_count": 125,
   "metadata": {},
   "outputs": [],
   "source": [
    "os.chdir(\"/home/matvey/data/LshCas13a_RNA_cleavage/LshCas13a_in_vitro_total_RNA/\")"
   ]
  },
  {
   "cell_type": "code",
   "execution_count": 144,
   "metadata": {},
   "outputs": [],
   "source": [
    "LRTTableFile = \"Results/Tables/TCS_detection_tables/LRTest_table_and_genome_features.tsv\"\n",
    "EcoliChrFile = \"Reference_sequences/NC_000913.3.fasta\""
   ]
  },
  {
   "cell_type": "code",
   "execution_count": 154,
   "metadata": {},
   "outputs": [],
   "source": [
    "LRTTable = pd.read_csv(LRTTableFile, sep=\"\\t\")\n",
    "LRTTable.sort_values(by=\"PValue.adj\", ascending=True, inplace=True, ignore_index=True)\n",
    "EcoliChrSeq = SeqIO.read(EcoliChrFile, \"fasta\").seq.transcribe()"
   ]
  },
  {
   "cell_type": "code",
   "execution_count": 164,
   "metadata": {},
   "outputs": [],
   "source": [
    "def extract_adj_seqs(seq, pos, strand, width):\n",
    "    assert (strand in [\"+\", \"-\"]), \"Invalid strand value\"\n",
    "    #should be 0-based coordinates\n",
    "    if strand == \"+\":\n",
    "        seq_slice = seq[pos-width : pos+width]\n",
    "    elif strand == \"-\":\n",
    "        seq_slice = seq[pos-width+1 : pos+width+1].reverse_complement()\n",
    "    return(seq_slice)"
   ]
  },
  {
   "cell_type": "code",
   "execution_count": 183,
   "metadata": {},
   "outputs": [],
   "source": [
    "Width = 100\n",
    "SubSeqsList = list()\n",
    "\n",
    "for i, row in LRTTable[LRTTable[\"MatchedFeatureType\"] == \"CDS\"].head().iterrows():\n",
    "    record_id = f'{row[\"MatchedFeatureGene\"]}-{row[\"Pos\"]}-({row[\"Strand\"]})'\n",
    "    record_seq = extract_adj_seqs(seq=EcoliChrSeq,\n",
    "                                  pos=row[\"Pos\"]-1,\n",
    "                                  strand=row[\"Strand\"],\n",
    "                                  width=Width)\n",
    "    \n",
    "    SubSeqsList.append(SeqRecord(id=record_id,\n",
    "                                 name=record_id,\n",
    "                                 description=f'{row[\"MatchedFeatureDescription\"]} fragment', \n",
    "                                 seq=record_seq))"
   ]
  },
  {
   "cell_type": "code",
   "execution_count": 184,
   "metadata": {},
   "outputs": [
    {
     "data": {
      "text/plain": [
       "[SeqRecord(seq=Seq('AAGGCCUGAAAGCUGGCGACCAGAUUCAGUCUGGCGUUGAUGCUGCAAUCAAAC...CUG'), id='rplB-3450942-(-)', name='rplB-3450942-(-)', description='50S ribosomal subunit protein L2 fragment', dbxrefs=[]),\n",
       " SeqRecord(seq=Seq('UGCAGGAGCACUCCGUGAUCCUGAUCCGUGGCGGUCGUGUUAAAGACCUCCCGG...CAA'), id='rpsL-3474232-(-)', name='rpsL-3474232-(-)', description='30S ribosomal subunit protein S12 fragment', dbxrefs=[]),\n",
       " SeqRecord(seq=Seq('AGGAGCAAAGCUAAUGGCUUUAAAUCUUCAAGACAAACAAGCGAUUGUUGCUGA...GUG'), id='rplJ-4180083-(+)', name='rplJ-4180083-(+)', description='50S ribosomal subunit protein L10 fragment', dbxrefs=[]),\n",
       " SeqRecord(seq=Seq('UUGACGAUCUGGAAUUGACUGUCCGCUCUGCUAACUGCCUUAAAGCAGAAGCUA...CCG'), id='rpoA-3440160-(-)', name='rpoA-3440160-(-)', description='RNA polymerase subunit alpha fragment', dbxrefs=[]),\n",
       " SeqRecord(seq=Seq('UCGUAACUCCGAUGUAGCCAAAGGUGUGGUUGAAACCUCCCUGAACGUCGGUGU...GCU'), id='pepD-254621-(-)', name='pepD-254621-(-)', description='peptidase D fragment', dbxrefs=[])]"
      ]
     },
     "execution_count": 184,
     "metadata": {},
     "output_type": "execute_result"
    }
   ],
   "source": [
    "SubSeqsList"
   ]
  }
 ],
 "metadata": {
  "kernelspec": {
   "display_name": "ViennaRNA",
   "language": "python",
   "name": "viennarna"
  },
  "language_info": {
   "codemirror_mode": {
    "name": "ipython",
    "version": 3
   },
   "file_extension": ".py",
   "mimetype": "text/x-python",
   "name": "python",
   "nbconvert_exporter": "python",
   "pygments_lexer": "ipython3",
   "version": "3.8.5"
  }
 },
 "nbformat": 4,
 "nbformat_minor": 4
}
