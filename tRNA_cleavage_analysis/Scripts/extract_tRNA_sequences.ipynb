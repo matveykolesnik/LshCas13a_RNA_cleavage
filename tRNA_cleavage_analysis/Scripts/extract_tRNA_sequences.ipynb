{
 "cells": [
  {
   "cell_type": "code",
   "execution_count": 1,
   "id": "transparent-president",
   "metadata": {},
   "outputs": [],
   "source": [
    "import os"
   ]
  },
  {
   "cell_type": "code",
   "execution_count": 2,
   "id": "collected-balloon",
   "metadata": {},
   "outputs": [],
   "source": [
    "os.chdir(\"/home/matvey/data/LshCas13a_RNA_cleavage/tRNA_cleavage_analysis/\")"
   ]
  },
  {
   "cell_type": "code",
   "execution_count": 3,
   "id": "unlimited-saying",
   "metadata": {},
   "outputs": [],
   "source": [
    "from Bio import SeqIO"
   ]
  },
  {
   "cell_type": "code",
   "execution_count": 4,
   "id": "metric-ceiling",
   "metadata": {},
   "outputs": [],
   "source": [
    "MG1655_gb = \"Annotations/NC_000913.3.gb\""
   ]
  },
  {
   "cell_type": "code",
   "execution_count": 5,
   "id": "accessory-controversy",
   "metadata": {},
   "outputs": [],
   "source": [
    "MG1655_gb_records = SeqIO.read(MG1655_gb, format=\"genbank\")"
   ]
  },
  {
   "cell_type": "code",
   "execution_count": 6,
   "id": "forty-birth",
   "metadata": {},
   "outputs": [],
   "source": [
    "tRNA_features = [f for f in MG1655_gb_records.features if f.type == \"tRNA\"]"
   ]
  },
  {
   "cell_type": "code",
   "execution_count": 7,
   "id": "severe-screen",
   "metadata": {},
   "outputs": [],
   "source": [
    "from Bio.SeqRecord import SeqRecord\n",
    "import re"
   ]
  },
  {
   "cell_type": "code",
   "execution_count": 8,
   "id": "purple-champion",
   "metadata": {},
   "outputs": [],
   "source": [
    "tRNA_SeqRecords = list()\n",
    "\n",
    "for i in tRNA_features:\n",
    "    tRNA_transcript = i.extract(MG1655_gb_records).seq.transcribe()\n",
    "    gene = i.qualifiers[\"gene\"][0]\n",
    "    anticodon = re.search(\"\\((.*?)\\)\", i.qualifiers[\"note\"][0]).group(1)\n",
    "    \n",
    "    tRNA_SeqRecord = SeqRecord(seq=tRNA_transcript, \n",
    "                               id=gene, \n",
    "                               name=gene, \n",
    "                               description=anticodon)\n",
    "    tRNA_SeqRecords.append(tRNA_SeqRecord)"
   ]
  },
  {
   "cell_type": "code",
   "execution_count": 9,
   "id": "clear-portugal",
   "metadata": {},
   "outputs": [
    {
     "data": {
      "text/plain": [
       "86"
      ]
     },
     "execution_count": 9,
     "metadata": {},
     "output_type": "execute_result"
    }
   ],
   "source": [
    "SeqIO.write(tRNA_SeqRecords, \"Results/MG1655_tRNA_sequences.fasta\", \"fasta\")"
   ]
  },
  {
   "cell_type": "code",
   "execution_count": 18,
   "id": "entire-algorithm",
   "metadata": {},
   "outputs": [],
   "source": [
    "WT_tRNAs_subset = list()\n",
    "with open(\"Results/WT_tRNA_subset_list.txt\", \"r\") as hlist:\n",
    "    for line in hlist:\n",
    "        WT_tRNAs_subset.append(line.rstrip())\n",
    "        \n",
    "d10LVM_tRNAs_subset = list()\n",
    "with open(\"Results/d10LVM_tRNA_subset_list.txt\", \"r\") as hlist:\n",
    "    for line in hlist:\n",
    "        d10LVM_tRNAs_subset.append(line.rstrip())"
   ]
  },
  {
   "cell_type": "code",
   "execution_count": 20,
   "id": "humanitarian-surface",
   "metadata": {},
   "outputs": [],
   "source": [
    "WT_tRNAs_subset_SeqRecords = [i for i in tRNA_SeqRecords if i.id in WT_tRNAs_subset]\n",
    "WT_tRNAs_subset_SeqRecords_sorted = sorted(WT_tRNAs_subset_SeqRecords, key=lambda x: x.id)\n",
    "\n",
    "d10LVM_tRNAs_subset_SeqRecords = [i for i in tRNA_SeqRecords if i.id in d10LVM_tRNAs_subset]\n",
    "d10LVM_tRNAs_subset_SeqRecords_sorted = sorted(d10LVM_tRNAs_subset_SeqRecords, key=lambda x: x.id)"
   ]
  },
  {
   "cell_type": "code",
   "execution_count": 21,
   "id": "continental-projector",
   "metadata": {},
   "outputs": [
    {
     "data": {
      "text/plain": [
       "84"
      ]
     },
     "execution_count": 21,
     "metadata": {},
     "output_type": "execute_result"
    }
   ],
   "source": [
    "SeqIO.write(WT_tRNAs_subset_SeqRecords_sorted, \"Results/WT_tRNA_subset.fasta\", format=\"fasta\")\n",
    "SeqIO.write(d10LVM_tRNAs_subset_SeqRecords_sorted, \"Results/d10LVM_tRNA_subset.fasta\", format=\"fasta\")"
   ]
  }
 ],
 "metadata": {
  "kernelspec": {
   "display_name": "Python 3",
   "language": "python",
   "name": "python3"
  },
  "language_info": {
   "codemirror_mode": {
    "name": "ipython",
    "version": 3
   },
   "file_extension": ".py",
   "mimetype": "text/x-python",
   "name": "python",
   "nbconvert_exporter": "python",
   "pygments_lexer": "ipython3",
   "version": "3.8.8"
  }
 },
 "nbformat": 4,
 "nbformat_minor": 5
}
